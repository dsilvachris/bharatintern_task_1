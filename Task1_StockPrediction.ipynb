{
 "cells": [
  {
   "attachments": {},
   "cell_type": "markdown",
   "metadata": {},
   "source": [
    "Stock Price Prediction using LSMT"
   ]
  },
  {
   "cell_type": "code",
   "execution_count": 1,
   "metadata": {},
   "outputs": [],
   "source": [
    "#Loading libraries\n",
    "\n",
    "import os\n",
    "import numpy as np\n",
    "import pandas as pd\n",
    "import matplotlib.pyplot as plt\n",
    "%matplotlib inline"
   ]
  },
  {
   "attachments": {},
   "cell_type": "markdown",
   "metadata": {},
   "source": [
    "I have choosen the Meta(FB) dataset for my Stock Price Prediction"
   ]
  },
  {
   "cell_type": "code",
   "execution_count": 2,
   "metadata": {},
   "outputs": [
    {
     "data": {
      "text/html": [
       "<div>\n",
       "<style scoped>\n",
       "    .dataframe tbody tr th:only-of-type {\n",
       "        vertical-align: middle;\n",
       "    }\n",
       "\n",
       "    .dataframe tbody tr th {\n",
       "        vertical-align: top;\n",
       "    }\n",
       "\n",
       "    .dataframe thead th {\n",
       "        text-align: right;\n",
       "    }\n",
       "</style>\n",
       "<table border=\"1\" class=\"dataframe\">\n",
       "  <thead>\n",
       "    <tr style=\"text-align: right;\">\n",
       "      <th></th>\n",
       "      <th>Date</th>\n",
       "      <th>Open</th>\n",
       "      <th>High</th>\n",
       "      <th>Low</th>\n",
       "      <th>Close</th>\n",
       "      <th>Adj Close</th>\n",
       "      <th>Volume</th>\n",
       "    </tr>\n",
       "  </thead>\n",
       "  <tbody>\n",
       "    <tr>\n",
       "      <th>0</th>\n",
       "      <td>2012-05-18</td>\n",
       "      <td>42.049999</td>\n",
       "      <td>45.000000</td>\n",
       "      <td>38.000000</td>\n",
       "      <td>38.230000</td>\n",
       "      <td>38.230000</td>\n",
       "      <td>573576400</td>\n",
       "    </tr>\n",
       "    <tr>\n",
       "      <th>1</th>\n",
       "      <td>2012-05-21</td>\n",
       "      <td>36.529999</td>\n",
       "      <td>36.660000</td>\n",
       "      <td>33.000000</td>\n",
       "      <td>34.029999</td>\n",
       "      <td>34.029999</td>\n",
       "      <td>168192700</td>\n",
       "    </tr>\n",
       "    <tr>\n",
       "      <th>2</th>\n",
       "      <td>2012-05-22</td>\n",
       "      <td>32.610001</td>\n",
       "      <td>33.590000</td>\n",
       "      <td>30.940001</td>\n",
       "      <td>31.000000</td>\n",
       "      <td>31.000000</td>\n",
       "      <td>101786600</td>\n",
       "    </tr>\n",
       "    <tr>\n",
       "      <th>3</th>\n",
       "      <td>2012-05-23</td>\n",
       "      <td>31.370001</td>\n",
       "      <td>32.500000</td>\n",
       "      <td>31.360001</td>\n",
       "      <td>32.000000</td>\n",
       "      <td>32.000000</td>\n",
       "      <td>73600000</td>\n",
       "    </tr>\n",
       "    <tr>\n",
       "      <th>4</th>\n",
       "      <td>2012-05-24</td>\n",
       "      <td>32.950001</td>\n",
       "      <td>33.209999</td>\n",
       "      <td>31.770000</td>\n",
       "      <td>33.029999</td>\n",
       "      <td>33.029999</td>\n",
       "      <td>50237200</td>\n",
       "    </tr>\n",
       "  </tbody>\n",
       "</table>\n",
       "</div>"
      ],
      "text/plain": [
       "         Date       Open       High        Low      Close  Adj Close  \\\n",
       "0  2012-05-18  42.049999  45.000000  38.000000  38.230000  38.230000   \n",
       "1  2012-05-21  36.529999  36.660000  33.000000  34.029999  34.029999   \n",
       "2  2012-05-22  32.610001  33.590000  30.940001  31.000000  31.000000   \n",
       "3  2012-05-23  31.370001  32.500000  31.360001  32.000000  32.000000   \n",
       "4  2012-05-24  32.950001  33.209999  31.770000  33.029999  33.029999   \n",
       "\n",
       "      Volume  \n",
       "0  573576400  \n",
       "1  168192700  \n",
       "2  101786600  \n",
       "3   73600000  \n",
       "4   50237200  "
      ]
     },
     "execution_count": 2,
     "metadata": {},
     "output_type": "execute_result"
    }
   ],
   "source": [
    "#Loading the dataset\n",
    "\n",
    "data = pd.read_csv(\"D:\\Bharat_Intern\\FB.csv\")\n",
    "data.head()"
   ]
  },
  {
   "cell_type": "code",
   "execution_count": 3,
   "metadata": {},
   "outputs": [
    {
     "name": "stdout",
     "output_type": "stream",
     "text": [
      "[[ 42.049999]\n",
      " [ 36.529999]\n",
      " [ 32.610001]\n",
      " ...\n",
      " [211.369995]\n",
      " [213.330002]\n",
      " [215.      ]]\n"
     ]
    }
   ],
   "source": [
    "#Using the Open Stock Price Column to Train the model\n",
    "\n",
    "train_set = data.iloc[:,1:2].values\n",
    "print(train_set)"
   ]
  },
  {
   "cell_type": "code",
   "execution_count": 4,
   "metadata": {},
   "outputs": [
    {
     "name": "stdout",
     "output_type": "stream",
     "text": [
      "(2479, 1)\n"
     ]
    }
   ],
   "source": [
    "print(train_set.shape)"
   ]
  },
  {
   "cell_type": "code",
   "execution_count": 5,
   "metadata": {},
   "outputs": [
    {
     "name": "stdout",
     "output_type": "stream",
     "text": [
      "[[0.06592409]\n",
      " [0.05074257]\n",
      " [0.0399615 ]\n",
      " ...\n",
      " [0.53160066]\n",
      " [0.53699121]\n",
      " [0.54158417]]\n"
     ]
    }
   ],
   "source": [
    "#Normalising the data\n",
    "\n",
    "from sklearn.preprocessing import MinMaxScaler\n",
    "scaler = MinMaxScaler(feature_range=(0,1))\n",
    "scaled_data = scaler.fit_transform(train_set)\n",
    "print(scaled_data)"
   ]
  },
  {
   "cell_type": "code",
   "execution_count": 24,
   "metadata": {},
   "outputs": [
    {
     "name": "stdout",
     "output_type": "stream",
     "text": [
      "(1198, 60)\n",
      "(1198,)\n"
     ]
    }
   ],
   "source": [
    "#Creating X_train and y_train Datastes\n",
    "\n",
    "X_train = []\n",
    "y_train = []\n",
    "\n",
    "for i in range (60,1258):\n",
    "    X_train.append(scaled_data[i-60:i, 0])\n",
    "    y_train.append(scaled_data[i,0])\n",
    "\n",
    "X_train = np.array(X_train)\n",
    "y_train = np.array(y_train)\n",
    "\n",
    "print(X_train.shape)\n",
    "print(y_train.shape)"
   ]
  },
  {
   "cell_type": "code",
   "execution_count": 25,
   "metadata": {},
   "outputs": [
    {
     "data": {
      "text/plain": [
       "(1198, 60, 1)"
      ]
     },
     "execution_count": 25,
     "metadata": {},
     "output_type": "execute_result"
    }
   ],
   "source": [
    "#Reshaping the data\n",
    "\n",
    "X_train = np.reshape(X_train,(X_train.shape[0], X_train.shape[1], 1))\n",
    "X_train.shape"
   ]
  },
  {
   "attachments": {},
   "cell_type": "markdown",
   "metadata": {},
   "source": [
    "Building the Model by Importing the Crucial Libraries and Adding Different Layers to LSTM."
   ]
  },
  {
   "cell_type": "code",
   "execution_count": 26,
   "metadata": {},
   "outputs": [],
   "source": [
    "from keras.models import Sequential\n",
    "from keras.layers import LSTM\n",
    "from keras.layers import Dense\n",
    "from keras.layers import Dropout"
   ]
  },
  {
   "cell_type": "code",
   "execution_count": 27,
   "metadata": {},
   "outputs": [],
   "source": [
    "regressor = Sequential()\n",
    "\n",
    "regressor.add(LSTM(units = 50, return_sequences= True, input_shape = (X_train.shape[1], 1)))\n",
    "regressor.add(Dropout(0.2))\n",
    "\n",
    "regressor.add(LSTM(units = 50, return_sequences= True))\n",
    "regressor.add(Dropout(0.2))\n",
    "\n",
    "regressor.add(LSTM(units = 50, return_sequences= True))\n",
    "regressor.add(Dropout(0.2))\n",
    "\n",
    "regressor.add(LSTM(units = 50))\n",
    "regressor.add(Dropout(0.2))\n",
    "\n",
    "regressor.add(Dense(units= 1))"
   ]
  },
  {
   "attachments": {},
   "cell_type": "markdown",
   "metadata": {},
   "source": [
    "Fitting the model"
   ]
  },
  {
   "cell_type": "code",
   "execution_count": 28,
   "metadata": {},
   "outputs": [
    {
     "name": "stdout",
     "output_type": "stream",
     "text": [
      "Epoch 1/20\n",
      "38/38 [==============================] - 13s 137ms/step - loss: 0.0047\n",
      "Epoch 2/20\n",
      "38/38 [==============================] - 5s 141ms/step - loss: 9.2807e-04\n",
      "Epoch 3/20\n",
      "38/38 [==============================] - 5s 139ms/step - loss: 5.5808e-04\n",
      "Epoch 4/20\n",
      "38/38 [==============================] - 5s 137ms/step - loss: 4.6640e-04\n",
      "Epoch 5/20\n",
      "38/38 [==============================] - 5s 143ms/step - loss: 5.0336e-04\n",
      "Epoch 6/20\n",
      "38/38 [==============================] - 5s 136ms/step - loss: 4.3770e-04\n",
      "Epoch 7/20\n",
      "38/38 [==============================] - 5s 132ms/step - loss: 4.6789e-04\n",
      "Epoch 8/20\n",
      "38/38 [==============================] - 5s 138ms/step - loss: 4.4274e-04\n",
      "Epoch 9/20\n",
      "38/38 [==============================] - 5s 140ms/step - loss: 4.1499e-04\n",
      "Epoch 10/20\n",
      "38/38 [==============================] - 5s 138ms/step - loss: 3.9447e-04\n",
      "Epoch 11/20\n",
      "38/38 [==============================] - 5s 141ms/step - loss: 3.7967e-04\n",
      "Epoch 12/20\n",
      "38/38 [==============================] - 5s 139ms/step - loss: 3.4428e-04\n",
      "Epoch 13/20\n",
      "38/38 [==============================] - 5s 141ms/step - loss: 3.3680e-04\n",
      "Epoch 14/20\n",
      "38/38 [==============================] - 5s 140ms/step - loss: 3.6092e-04\n",
      "Epoch 15/20\n",
      "38/38 [==============================] - 5s 139ms/step - loss: 3.5371e-04\n",
      "Epoch 16/20\n",
      "38/38 [==============================] - 5s 138ms/step - loss: 3.0171e-04\n",
      "Epoch 17/20\n",
      "38/38 [==============================] - 5s 138ms/step - loss: 3.5648e-04\n",
      "Epoch 18/20\n",
      "38/38 [==============================] - 5s 137ms/step - loss: 3.0757e-04\n",
      "Epoch 19/20\n",
      "38/38 [==============================] - 5s 137ms/step - loss: 2.8181e-04\n",
      "Epoch 20/20\n",
      "38/38 [==============================] - 5s 139ms/step - loss: 2.9930e-04\n"
     ]
    },
    {
     "data": {
      "text/plain": [
       "<keras.callbacks.History at 0x248a09cac10>"
      ]
     },
     "execution_count": 28,
     "metadata": {},
     "output_type": "execute_result"
    }
   ],
   "source": [
    "regressor.compile(optimizer= 'adam', loss= 'mean_squared_error')\n",
    "regressor.fit(X_train, y_train, epochs= 20, batch_size= 32)"
   ]
  },
  {
   "attachments": {},
   "cell_type": "markdown",
   "metadata": {},
   "source": [
    "Extracting the actual stock prices of April 2022 "
   ]
  },
  {
   "cell_type": "code",
   "execution_count": 29,
   "metadata": {},
   "outputs": [
    {
     "name": "stdout",
     "output_type": "stream",
     "text": [
      "[[ 42.049999]\n",
      " [ 36.529999]\n",
      " [ 32.610001]\n",
      " ...\n",
      " [211.369995]\n",
      " [213.330002]\n",
      " [215.      ]]\n"
     ]
    }
   ],
   "source": [
    "data = pd.read_csv(\"D:\\Bharat_Intern\\FB.csv\")\n",
    "actual_stock_price = data.iloc[:,1:2].values\n",
    "print(actual_stock_price)"
   ]
  },
  {
   "attachments": {},
   "cell_type": "markdown",
   "metadata": {},
   "source": [
    "Preparing the input for the model"
   ]
  },
  {
   "cell_type": "code",
   "execution_count": 30,
   "metadata": {},
   "outputs": [
    {
     "name": "stdout",
     "output_type": "stream",
     "text": [
      "[[[0.90437297]\n",
      "  [0.89636965]\n",
      "  [0.89367435]\n",
      "  ...\n",
      "  [0.53160066]\n",
      "  [0.53699121]\n",
      "  [0.54158417]]\n",
      "\n",
      " [[0.89636965]\n",
      "  [0.89367435]\n",
      "  [0.88069305]\n",
      "  ...\n",
      "  [0.53699121]\n",
      "  [0.54158417]\n",
      "  [0.06592409]]\n",
      "\n",
      " [[0.89367435]\n",
      "  [0.88069305]\n",
      "  [0.88523107]\n",
      "  ...\n",
      "  [0.54158417]\n",
      "  [0.06592409]\n",
      "  [0.05074257]]\n",
      "\n",
      " ...\n",
      "\n",
      " [[0.76941695]\n",
      "  [0.77522007]\n",
      "  [0.79463701]\n",
      "  ...\n",
      "  [0.02329483]\n",
      "  [0.0250275 ]\n",
      "  [0.02585259]]\n",
      "\n",
      " [[0.77522007]\n",
      "  [0.79463701]\n",
      "  [0.76916943]\n",
      "  ...\n",
      "  [0.0250275 ]\n",
      "  [0.02585259]\n",
      "  [0.02634764]]\n",
      "\n",
      " [[0.79463701]\n",
      "  [0.76916943]\n",
      "  [0.76331133]\n",
      "  ...\n",
      "  [0.02585259]\n",
      "  [0.02634764]\n",
      "  [0.02632013]]]\n"
     ]
    },
    {
     "name": "stderr",
     "output_type": "stream",
     "text": [
      "C:\\Users\\DELL\\AppData\\Local\\Temp\\ipykernel_21984\\3024995533.py:2: FutureWarning: The behavior of `series[i:j]` with an integer-dtype index is deprecated. In a future version, this will be treated as *label-based* indexing, consistent with e.g. `series[i]` lookups. To retain the old behavior, use `series.iloc[i:j]`. To get the future behavior, use `series.loc[i:j]`.\n",
      "  inputs = data_total[len(data_total) - len(data) - 60:]\n"
     ]
    }
   ],
   "source": [
    "data_total = pd.concat((data['Open'], data['Open']), axis= 0)\n",
    "inputs = data_total[len(data_total) - len(data) - 60:]\n",
    "\n",
    "inputs = inputs.values.reshape(-1,1)\n",
    "inputs = scaler.transform(inputs)\n",
    "\n",
    "X_test = []\n",
    "for i in range(60,80):\n",
    "    X_test.append(inputs[i-60:i, 0])\n",
    "\n",
    "X_test = np.array(X_test)\n",
    "X_test = np.reshape(X_test, (X_test.shape[0], X_test.shape[1], 1))\n",
    "\n",
    "print(X_test)"
   ]
  },
  {
   "attachments": {},
   "cell_type": "markdown",
   "metadata": {},
   "source": [
    "Predicting the Values for April 2022 Stock Prices"
   ]
  },
  {
   "cell_type": "code",
   "execution_count": 32,
   "metadata": {},
   "outputs": [
    {
     "name": "stdout",
     "output_type": "stream",
     "text": [
      "1/1 [==============================] - 0s 70ms/step\n",
      "[[200.89114 ]\n",
      " [200.7063  ]\n",
      " [199.56966 ]\n",
      " [196.93198 ]\n",
      " [192.4785  ]\n",
      " [186.13791 ]\n",
      " [178.03569 ]\n",
      " [168.43224 ]\n",
      " [157.66228 ]\n",
      " [146.09572 ]\n",
      " [134.10747 ]\n",
      " [122.045006]\n",
      " [110.2127  ]\n",
      " [ 98.86248 ]\n",
      " [ 88.19557 ]\n",
      " [ 78.35815 ]\n",
      " [ 69.44729 ]\n",
      " [ 61.514736]\n",
      " [ 54.572887]\n",
      " [ 48.600986]]\n"
     ]
    }
   ],
   "source": [
    "predicted_stock_price = regressor.predict(X_test)\n",
    "predicted_stock_price = scaler.inverse_transform(predicted_stock_price)\n",
    "print(predicted_stock_price)"
   ]
  },
  {
   "cell_type": "code",
   "execution_count": 36,
   "metadata": {},
   "outputs": [
    {
     "name": "stderr",
     "output_type": "stream",
     "text": [
      "No artists with labels found to put in legend.  Note that artists whose label start with an underscore are ignored when legend() is called with no argument.\n"
     ]
    },
    {
     "data": {
      "text/plain": [
       "<matplotlib.legend.Legend at 0x248b33ad4d0>"
      ]
     },
     "execution_count": 36,
     "metadata": {},
     "output_type": "execute_result"
    },
    {
     "data": {
      "image/png": "[encoded data removed]",
      "text/plain": [
       "<Figure size 640x480 with 1 Axes>"
      ]
     },
     "metadata": {},
     "output_type": "display_data"
    }
   ],
   "source": [
    "from matplotlib.lines import Line2D\n",
    "plt.plot(actual_stock_price, color = 'red' )\n",
    "plt.plot(predicted_stock_price, color ='blue')\n",
    "plt.title('Meta(FB) Stock Price Prediction')\n",
    "plt.xlabel('Time')\n",
    "plt.ylabel('Meta(FB) Stock Price')\n",
    "plt.legend()"
   ]
  }
 ],
 "metadata": {
  "kernelspec": {
   "display_name": "Python 3",
   "language": "python",
   "name": "python3"
  },
  "language_info": {
   "codemirror_mode": {
    "name": "ipython",
    "version": 3
   },
   "file_extension": ".py",
   "mimetype": "text/x-python",
   "name": "python",
   "nbconvert_exporter": "python",
   "pygments_lexer": "ipython3",
   "version": "3.11.1"
  },
  "orig_nbformat": 4
 },
 "nbformat": 4,
 "nbformat_minor": 2
}
